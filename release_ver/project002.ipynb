{
 "cells": [
  {
   "attachments": {},
   "cell_type": "markdown",
   "metadata": {},
   "source": [
    "얼굴 검출 "
   ]
  },
  {
   "cell_type": "code",
   "execution_count": null,
   "metadata": {},
   "outputs": [],
   "source": [
    "import cv2\n",
    "import dlib\n",
    "import numpy as np\n",
    "\n",
    "# 얼굴 인식기와 랜드마크 인식기 생성\n",
    "detector = dlib.get_frontal_face_detector()\n",
    "predictor = dlib.shape_predictor('./content/shape_predictor_68_face_landmarks.dat')\n",
    "\n",
    "# 웹캠 열기\n",
    "cap = cv2.VideoCapture(0)\n",
    "\n",
    "while True:\n",
    "    # 웹캠으로부터 프레임 읽어오기\n",
    "    ret, frame = cap.read()\n",
    "    \n",
    "    # 얼굴 검출\n",
    "    gray = cv2.cvtColor(frame, cv2.COLOR_BGR2GRAY)\n",
    "    faces = detector(gray)\n",
    "\n",
    "    for face in faces:\n",
    "        # 랜드마크 검출\n",
    "        landmarks = predictor(gray, face)\n",
    "        \n",
    "        landmarks_list = []\n",
    "        for n in range(68):\n",
    "            x = landmarks.part(n).x\n",
    "            y = landmarks.part(n).y\n",
    "            landmarks_list.append((x, y))\n",
    "        \n",
    "        # 랜드마크 위치에 원 그리기\n",
    "        for landmark in landmarks_list:\n",
    "            cv2.circle(frame, landmark, 1, (0, 0, 255), -1)\n",
    "    \n",
    "    # 프레임 출력\n",
    "    cv2.imshow('frame', frame)\n",
    "    \n",
    "    # 'q'를 누르면 종료\n",
    "    if cv2.waitKey(1) & 0xFF == ord('q'):\n",
    "        break\n",
    "\n",
    "# 웹캠 해제 및 창 닫기\n",
    "cap.release()\n",
    "cv2.destroyAllWindows()\n",
    "\n"
   ]
  }
 ],
 "metadata": {
  "kernelspec": {
   "display_name": "Python 3",
   "language": "python",
   "name": "python3"
  },
  "language_info": {
   "codemirror_mode": {
    "name": "ipython",
    "version": 3
   },
   "file_extension": ".py",
   "mimetype": "text/x-python",
   "name": "python",
   "nbconvert_exporter": "python",
   "pygments_lexer": "ipython3",
   "version": "3.11.2"
  },
  "orig_nbformat": 4
 },
 "nbformat": 4,
 "nbformat_minor": 2
}
