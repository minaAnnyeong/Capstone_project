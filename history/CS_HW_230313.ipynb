{
 "cells": [
  {
   "cell_type": "code",
   "execution_count": 14,
   "metadata": {},
   "outputs": [
    {
     "name": "stdout",
     "output_type": "stream",
     "text": [
      "[ 5 12 21 32]\n",
      "70\n",
      "2.5 6.5\n",
      "1.118033988749895 1.118033988749895\n",
      "[[1 2]\n",
      " [3 4]]\n",
      "(4,)\n"
     ]
    }
   ],
   "source": [
    "# 문제 1\n",
    "import numpy as np\n",
    "'''\n",
    "아래와 같은 원소들을 갖도록 두 numpy 배열 a, b를 각각 선언하세요.\n",
    "a = [1,2,3,4]\n",
    "b = [5,6,7,8]\n",
    "'''\n",
    "\n",
    "a = np.array([1,2,3,4])\n",
    "b = np.array([5,6,7,8])\n",
    "\n",
    "# 아래 연산들을 수행하고, 그 결과를 출력하세요.\n",
    "\n",
    "#1. a와 b의 요소 곱(element-wise product)을 계산하고 출력하세요.\n",
    "print(a*b)\n",
    "#2. a와 b의 내적(dot product)을 계산하고 출력하세요.\n",
    "print(np.dot(a,b))\n",
    "#3. a와 b의 요소 평균(mean)을 계산하고 출력하세요. \n",
    "print(np.mean(a), np.mean(b))\n",
    "#4. a와 b의 요소 표준편차(standard deviation)를 계산하고 출력하세요.\n",
    "print(np.std(a), np.std(b))\n",
    "#5. a의 shape을 2x2로 변경하고, shape이 변경된 배열과 shape을 각각 출력하세요.\n",
    "print(a.reshape(2,2))\n",
    "print(np.shape(a))"
   ]
  },
  {
   "cell_type": "code",
   "execution_count": 62,
   "metadata": {},
   "outputs": [
    {
     "name": "stdout",
     "output_type": "stream",
     "text": [
      "[[57 31 90 68]\n",
      " [40 24 18 51]\n",
      " [47 20 41 70]]\n",
      "90\n",
      "18\n",
      "[31 24 20]\n",
      "[47 20 41 70]\n",
      "[57 31]\n",
      "[[57 31  0  0]\n",
      " [ 0  0  0 51]\n",
      " [47  0 41  0]]\n"
     ]
    }
   ],
   "source": [
    "# 문제 2\n",
    "\n",
    "import numpy as np\n",
    "\n",
    "# 1. 랜덤하게 채워진 (3, 4) shape의 Numpy 배열 선언하고 출력하세요.\n",
    "x = np.random.randint(0,100,(3,4))\n",
    "print(x)\n",
    "# 2. 선언한 배열에서 최댓값을 찾아서 출력하세요. \n",
    "print(max(map(max,x)))\n",
    "# 3. 선언한 배열에서 최솟값을 찾아서 출력하세요.\n",
    "print(min(map(min,x)))\n",
    "# 4. 배열의 두 번째 열(column)의 원소를 가져와서 출력하세요.\n",
    "print(x[:,1])\n",
    "# 5. 배열의 세 번째 행(row)의 원소를 가져와서 출력하세요.\n",
    "print(x[2,:])\n",
    "# 6. 배열의 첫 번째 행(row)에서 앞에서 두 개의 원소까지만 slicing 해서 출력하세요.\n",
    "print(x[0,:2])\n",
    "# 7. 선언한 배열의 요소 중 모든 짝수를 0으로 대체하고, 그 결과를 출력하세요.\n",
    "cnt=0\n",
    "for i in range(len(x)):\n",
    "    for j in range(len(x[i])):\n",
    "        if(x[i][j] % 2 == 0):\n",
    "            x[i][j] = 0\n",
    "print(x)"
   ]
  }
 ],
 "metadata": {
  "kernelspec": {
   "display_name": "Python 3",
   "language": "python",
   "name": "python3"
  },
  "language_info": {
   "name": "python",
   "version": "3.11.2"
  },
  "orig_nbformat": 4
 },
 "nbformat": 4,
 "nbformat_minor": 2
}
