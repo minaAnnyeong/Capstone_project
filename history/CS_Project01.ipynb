{
 "cells": [
  {
   "cell_type": "code",
   "execution_count": 13,
   "metadata": {},
   "outputs": [],
   "source": [
    "import cv2\n",
    "import dlib\n",
    "import numpy as np"
   ]
  },
  {
   "cell_type": "code",
   "execution_count": 14,
   "metadata": {},
   "outputs": [],
   "source": [
    "# 육각형 영역에서 원을 검출하여 반환하는 함수\n",
    "def detect_circle_in_hexagon(img, hexagon):\n",
    "    # 육각형 좌표를 이용해 마스크 생성\n",
    "    mask = np.zeros_like(img)\n",
    "    cv2.fillPoly(mask, np.int32([hexagon]), (255, 255, 255))\n",
    "\n",
    "    # 마스크 적용\n",
    "    masked = cv2.bitwise_and(img, mask)\n",
    "    gray = cv2.cvtColor(masked, cv2.COLOR_BGR2GRAY)\n",
    "    equalized_image = cv2.equalizeHist(gray)\n",
    "    blur = cv2.GaussianBlur(equalized_image, (5, 5), 0)\n",
    "    edges = cv2.Canny(blur, 30, 100)\n",
    "\n",
    "    # 원 검출\n",
    "    circles = cv2.HoughCircles(edges, cv2.HOUGH_GRADIENT, 1, 20, param1=50, param2=20, \n",
    "                               minRadius=5, maxRadius=20)\n",
    "    \n",
    "    # 원 검출 결과 반환\n",
    "    return circles"
   ]
  },
  {
   "cell_type": "code",
   "execution_count": 15,
   "metadata": {},
   "outputs": [],
   "source": [
    "# circles의 정보 입력받아 이미지에 원 둘레를 그리는 함수\n",
    "def draw_circles(img, circles):\n",
    "    if circles is not None:\n",
    "        circles = np.round(circles[0, :]).astype(\"int\")\n",
    "        for (x, y, r) in circles:\n",
    "            cv2.circle(img, (x, y), r, (0, 255, 0), 2)"
   ]
  },
  {
   "cell_type": "code",
   "execution_count": 16,
   "metadata": {},
   "outputs": [],
   "source": [
    "# 얼굴 인식 model, 랜드마크 인식기 생성\n",
    "detector = dlib.get_frontal_face_detector()\n",
    "predictor = dlib.shape_predictor('./content/shape_predictor_68_face_landmarks.dat')\n",
    "\n",
    "# 웹캠 열기\n",
    "cap = cv2.VideoCapture(0)\n",
    "\n",
    "while True:\n",
    "    # 프레임 읽어오기\n",
    "    ret, frame = cap.read()\n",
    "\n",
    "    # 얼굴 검출\n",
    "    gray = cv2.cvtColor(frame, cv2.COLOR_BGR2GRAY)\n",
    "    faces = detector(gray)\n",
    "\n",
    "    for face in faces:\n",
    "        # 얼굴 영역에서 랜드마크 검출\n",
    "        landmarks = predictor(gray, face)\n",
    "\n",
    "        # 양 눈 영역을 나타내는 랜드마크 인덱스\n",
    "        left_eye = [36, 37, 38, 39, 40, 41]\n",
    "        right_eye = [42, 43, 44, 45, 46, 47]\n",
    "\n",
    "        # 양 눈의 x, y 좌표를 저장할 리스트 초기화\n",
    "        left_eye_pts = []\n",
    "        right_eye_pts = []\n",
    "\n",
    "        for n in left_eye:\n",
    "            x = landmarks.part(n).x\n",
    "            y = landmarks.part(n).y\n",
    "            left_eye_pts.append((x, y))\n",
    "\n",
    "        for n in right_eye:\n",
    "            x = landmarks.part(n).x\n",
    "            y = landmarks.part(n).y\n",
    "            right_eye_pts.append((x, y))\n",
    "\n",
    "        left_circles = detect_circle_in_hexagon(frame, left_eye_pts)\n",
    "        right_circles = detect_circle_in_hexagon(frame, right_eye_pts)   \n",
    "\n",
    "        draw_circles(frame, left_circles)\n",
    "        draw_circles(frame, right_circles)\n",
    "\n",
    "    # 화면에 프레임 출력\n",
    "    cv2.imshow(\"frame\", frame)\n",
    "\n",
    "    # 'q'를 누르면 종료\n",
    "    if cv2.waitKey(1) & 0xFF == ord('q'):\n",
    "        break\n",
    "\n",
    "# 웹캠 해제 및 창 닫기\n",
    "cap.release()\n",
    "cv2.destroyAllWindows()\n"
   ]
  }
 ],
 "metadata": {
  "kernelspec": {
   "display_name": "Python 3",
   "language": "python",
   "name": "python3"
  },
  "language_info": {
   "codemirror_mode": {
    "name": "ipython",
    "version": 3
   },
   "file_extension": ".py",
   "mimetype": "text/x-python",
   "name": "python",
   "nbconvert_exporter": "python",
   "pygments_lexer": "ipython3",
   "version": "3.11.3"
  },
  "orig_nbformat": 4
 },
 "nbformat": 4,
 "nbformat_minor": 2
}
