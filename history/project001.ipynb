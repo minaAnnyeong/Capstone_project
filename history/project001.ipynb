{
 "cells": [
  {
   "cell_type": "code",
   "execution_count": 11,
   "metadata": {},
   "outputs": [],
   "source": [
    "import cv2\n",
    "import dlib\n",
    "\n",
    "# dlib의 얼굴 인식 모델을 불러옵니다.\n",
    "detector = dlib.get_frontal_face_detector()\n",
    "# dlib의 랜드마크 인식 모델을 불러옵니다.\n",
    "datfile = \"./content/shape_predictor_68_face_landmarks.dat\"\n",
    "predictor = dlib.shape_predictor(datfile)\n",
    "\n",
    "cap = cv2.VideoCapture(0)\n",
    "\n",
    "while True:\n",
    "    ret, img = cap.read()\n",
    "    gray = cv2.cvtColor(img, cv2.COLOR_BGR2GRAY)\n",
    "\n",
    "    # 얼굴 영역을 검출\n",
    "    faces = detector(gray)\n",
    "\n",
    "    for face in faces:\n",
    "        # 얼굴 랜드마크를 검출\n",
    "        landmarks = predictor(gray, face)\n",
    "\n",
    "        # 얼굴 랜드마크 중 왼쪽 눈과 오른쪽 눈의 위치 정보 추출\n",
    "        left_eye = (landmarks.part(36).x, landmarks.part(36).y)\n",
    "        right_eye = (landmarks.part(45).x, landmarks.part(45).y)\n",
    "\n",
    "        # 눈 위치에 빨간색 점을 찍기\n",
    "        cv2.circle(img, left_eye, 3, (0, 0, 255), -1)\n",
    "        cv2.circle(img, right_eye, 3, (0, 0, 255), -1)\n",
    "\n",
    "    # (이미지를 출력하여 확인하기)\n",
    "    cv2.imshow('image', img)\n",
    "\n",
    "    # 'q'를 눌러 캠 종료\n",
    "    if cv2.waitKey(1) & 0xFF == ord('q'):\n",
    "        break\n",
    "\n",
    "cap.release()\n",
    "cv2.destroyAllWindows()\n"
   ]
  }
 ],
 "metadata": {
  "kernelspec": {
   "display_name": "Python 3",
   "language": "python",
   "name": "python3"
  },
  "language_info": {
   "codemirror_mode": {
    "name": "ipython",
    "version": 3
   },
   "file_extension": ".py",
   "mimetype": "text/x-python",
   "name": "python",
   "nbconvert_exporter": "python",
   "pygments_lexer": "ipython3",
   "version": "3.11.2"
  },
  "orig_nbformat": 4
 },
 "nbformat": 4,
 "nbformat_minor": 2
}
